{
 "cells": [
  {
   "cell_type": "markdown",
   "id": "0e1ec0b4",
   "metadata": {},
   "source": [
    "# Write a Python/Java code to find the Similarity value of a given sequences. Take the sequence from user."
   ]
  },
  {
   "cell_type": "code",
   "execution_count": 1,
   "id": "8a074e9b",
   "metadata": {},
   "outputs": [
    {
     "name": "stdout",
     "output_type": "stream",
     "text": [
      "Enter the first sequence: abxyef\n",
      "Enter the second sequence: lmtuwx\n",
      "How many elements for similarity condition?3\n",
      "Enter an element: b\n",
      "How many elements is it similar to? 1\n",
      "What is it similar to? m\n",
      "Enter an element: e\n",
      "How many elements is it similar to? 1\n",
      "What is it similar to? w\n",
      "Enter an element: y\n",
      "How many elements is it similar to? 1\n",
      "What is it similar to? u\n",
      "['a', 'b', 'x', 'y', 'e', 'f']\n",
      "['l', 'm', 't', 'u', 'w', 'x']\n",
      "[['b', 'm'], ['e', 'w'], ['y', 'u']]\n",
      "50.0 %\n"
     ]
    }
   ],
   "source": [
    "sequence_one=input(\"Enter the first sequence: \")\n",
    "sequence_two=input(\"Enter the second sequence: \")\n",
    "how_many=int(input(\"How many elements for similarity condition?\"))\n",
    "similarities=[]\n",
    "\n",
    "for i in range(0,how_many):\n",
    "    a=input(\"Enter an element: \")\n",
    "    c=int(input(\"How many elements is it similar to? \"))\n",
    "    similarities.append([])\n",
    "    similarities[i].append(a)\n",
    "\n",
    "    for j in range(0,c):\n",
    "        b=input(\"What is it similar to? \")\n",
    "        similarities[i].append(b)\n",
    "\n",
    "def compare(o,t,s):\n",
    "    print(o)\n",
    "    print(t)\n",
    "    print(s)\n",
    "    score=0\n",
    "    for i in range(len(o)):\n",
    "        for j in range(len(s)):\n",
    "            if o[i] in s[j] and t[i] in s[j] and o[i] != t[i]:\n",
    "                score+=1\n",
    "    similarity= (score*100)/len(o)\n",
    "    return similarity\n",
    "\n",
    "print(compare(list(sequence_one),list(sequence_two),similarities),\"%\")"
   ]
  },
  {
   "cell_type": "code",
   "execution_count": null,
   "id": "e8199d4d",
   "metadata": {},
   "outputs": [],
   "source": []
  }
 ],
 "metadata": {
  "kernelspec": {
   "display_name": "Python 3",
   "language": "python",
   "name": "python3"
  },
  "language_info": {
   "codemirror_mode": {
    "name": "ipython",
    "version": 3
   },
   "file_extension": ".py",
   "mimetype": "text/x-python",
   "name": "python",
   "nbconvert_exporter": "python",
   "pygments_lexer": "ipython3",
   "version": "3.6.13"
  }
 },
 "nbformat": 4,
 "nbformat_minor": 5
}
