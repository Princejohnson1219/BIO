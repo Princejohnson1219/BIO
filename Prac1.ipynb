{
 "cells": [
  {
   "cell_type": "markdown",
   "id": "18181854",
   "metadata": {},
   "source": [
    "# Write a Python/Java code to perform pairwise alignment. Take 2 sequences from user and calculate the score."
   ]
  },
  {
   "cell_type": "code",
   "execution_count": 3,
   "id": "968d8f8f",
   "metadata": {},
   "outputs": [
    {
     "name": "stdout",
     "output_type": "stream",
     "text": [
      "Enter the first sequence: abcxyz\n",
      "Enter the second sequence: abxyef\n",
      "\n",
      "['a', 'b', 'c', 'x', 'y', 'z']\n",
      "['a', 'b', 'x', 'y', 'e', 'f']\n",
      "['1', '1', '0', '0', '0', '0']\n",
      "2\n"
     ]
    }
   ],
   "source": [
    "se1=input(\"Enter the first sequence: \")\n",
    "se2=input(\"Enter the second sequence: \")\n",
    "seq1=list(se1)\n",
    "seq2=list(se2)\n",
    "score=[]\n",
    "\n",
    "def Pairwise_alignment(a,b):\n",
    "    gap(a,b)\n",
    "    print(a)\n",
    "    print(b)\n",
    "    value=0\n",
    "    length=len(a)\n",
    "    for i in range(0,length):\n",
    "        if(a[i]==b[i]):\n",
    "            score.append('1')\n",
    "            value=value+1\n",
    "        else:\n",
    "            score.append('0')\n",
    "    print(score)\n",
    "    print(value)\n",
    "\n",
    "def gap(a,b):\n",
    "    if(len(a)==len(b)):\n",
    "        print()\n",
    "    else:\n",
    "        k=int(input(\"enter the position to insert::\"))\n",
    "        if (len(a)<len(b)):\n",
    "            a.insert(k,'-')\n",
    "        else:\n",
    "            b.insert(k,'-')\n",
    "    return(a,b)\n",
    "\n",
    "Pairwise_alignment(seq1,seq2)"
   ]
  },
  {
   "cell_type": "code",
   "execution_count": null,
   "id": "9b1fcb29",
   "metadata": {},
   "outputs": [],
   "source": []
  },
  {
   "cell_type": "code",
   "execution_count": null,
   "id": "3131a261",
   "metadata": {},
   "outputs": [],
   "source": []
  }
 ],
 "metadata": {
  "kernelspec": {
   "display_name": "Python 3",
   "language": "python",
   "name": "python3"
  },
  "language_info": {
   "codemirror_mode": {
    "name": "ipython",
    "version": 3
   },
   "file_extension": ".py",
   "mimetype": "text/x-python",
   "name": "python",
   "nbconvert_exporter": "python",
   "pygments_lexer": "ipython3",
   "version": "3.6.13"
  }
 },
 "nbformat": 4,
 "nbformat_minor": 5
}
