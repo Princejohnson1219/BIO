{
  "nbformat": 4,
  "nbformat_minor": 0,
  "metadata": {
    "colab": {
      "name": "Mini project.ipynb",
      "provenance": []
    },
    "kernelspec": {
      "name": "python3",
      "display_name": "Python 3"
    },
    "language_info": {
      "name": "python"
    }
  },
  "cells": [
    {
      "cell_type": "code",
      "execution_count": 4,
      "metadata": {
        "colab": {
          "base_uri": "https://localhost:8080/"
        },
        "id": "yBdl-Y8SqRhw",
        "outputId": "cd257d59-23dc-4a88-8ea2-af28e1f6a365"
      },
      "outputs": [
        {
          "output_type": "stream",
          "name": "stdout",
          "text": [
            "Enter the length of motif4\n",
            "Sequence ATTCTTTTAC CCAACAAAAG TGGGAAGAAG GGGAACAGTG CCGATCTAAC ATCTCCGGAG\n",
            "AAAATCCAAG CAATAATGAC TTCACTCCAG GACTTTAAGA TCGTTCCAAT TGATCCAACC\n",
            "AAAAATATCA TGGGTATCGA AGTGCCAGAA ACTCTGGTCC ACAAGCTGAC CGGTAAGAAG\n",
            "GTGACTTCCA AAAATGGACA ACCAATCATC CCTGTTCTTT TGCCAAAGTA CATTGGGTTG\n",
            "GACCCGGTGG CTCCAGGAGA CCTCACCATG GTAATCACAC AGGATTGTGA CACGTGTCAT\n",
            "TCTCCTGCAA GTCTTCCAGC TGTGGTTGAG AAGTAA\n",
            "\n",
            "Size of the sequence 370\n",
            "Position 12\n",
            "Motif CAAC\n"
          ]
        }
      ],
      "source": [
        "import random\n",
        "l=int(input(\"Enter the length of motif\"))\n",
        "file=open(\"ebola.txt\",\"r\")\n",
        "r=file.read()\n",
        "print(\"Sequence\",r)\n",
        "size=len(r)\n",
        "print(\"Size of the sequence\",size)\n",
        "pos=random.randint(0,len(r)-5)\n",
        "#pos=1\n",
        "print(\"Position\",pos)\n",
        "motif=r[pos:pos+l]\n",
        "print(\"Motif\",motif)\n",
        "i=pos+1\n",
        "while(i<=size-1):\n",
        "    if(motif==r[i:i+1]):\n",
        "        str1=r[i:i+1]\n",
        "        print(\"Match motif\",str1)\n",
        "        file1=open(\"motoutput.txt\",\"a\")\n",
        "        file1.write(str1+\" \")\n",
        "    i+=1"
      ]
    }
  ]
}