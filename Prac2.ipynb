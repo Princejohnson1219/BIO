{
 "cells": [
  {
   "cell_type": "markdown",
   "id": "47a86c62",
   "metadata": {},
   "source": [
    "# Write a Python/Java code to find the identity value of a given sequences. Take the sequence from user."
   ]
  },
  {
   "cell_type": "code",
   "execution_count": 3,
   "id": "07d00d4f",
   "metadata": {},
   "outputs": [
    {
     "name": "stdout",
     "output_type": "stream",
     "text": [
      "Enter the first sequence: axyzef\n",
      "Enter the second sequence: aywotd\n",
      "\n",
      "['a', 'x', 'y', 'z', 'e', 'f']\n",
      "['a', 'y', 'w', 'o', 't', 'd']\n",
      "Matching Score:: 2\n",
      "Identity of the sequences:: 5.555555555555555\n"
     ]
    }
   ],
   "source": [
    "se1=input(\"Enter the first sequence: \")\n",
    "se2=input(\"Enter the second sequence: \")\n",
    "seq1=list(se1)\n",
    "seq2=list(se2)\n",
    "\n",
    "def find_identity(a,b):\n",
    "    gap(a,b)\n",
    "    print(a)\n",
    "    print(b)\n",
    "    score=0\n",
    "    length=len(a)\n",
    "    total_elements=len(a)*len(b)\n",
    "    for i in range(0,length):\n",
    "        for j in range(0,length):\n",
    "            if(a[i]==b[j]):\n",
    "                score=score+1\n",
    "    identity=(score/total_elements)*100\n",
    "    print(\"Matching Score::\",score)\n",
    "    print(\"Identity of the sequences::\",identity)\n",
    "\n",
    "def gap(a,b):\n",
    "    if(len(a)==len(b)):\n",
    "        print()\n",
    "    else:\n",
    "        k=int(input(\"enter the position to insert gap ::\"))\n",
    "        if (len(a)<len(b)):\n",
    "            a.insert(k,'-')\n",
    "        else:\n",
    "            b.insert(k,'-')\n",
    "    return(a,b)\n",
    "\n",
    "find_identity(seq1,seq2)"
   ]
  },
  {
   "cell_type": "code",
   "execution_count": null,
   "id": "5d425888",
   "metadata": {},
   "outputs": [],
   "source": []
  },
  {
   "cell_type": "code",
   "execution_count": null,
   "id": "d2295dc7",
   "metadata": {},
   "outputs": [],
   "source": []
  }
 ],
 "metadata": {
  "kernelspec": {
   "display_name": "Python 3",
   "language": "python",
   "name": "python3"
  },
  "language_info": {
   "codemirror_mode": {
    "name": "ipython",
    "version": 3
   },
   "file_extension": ".py",
   "mimetype": "text/x-python",
   "name": "python",
   "nbconvert_exporter": "python",
   "pygments_lexer": "ipython3",
   "version": "3.6.13"
  }
 },
 "nbformat": 4,
 "nbformat_minor": 5
}
